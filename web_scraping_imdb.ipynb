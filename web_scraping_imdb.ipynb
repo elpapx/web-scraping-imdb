{
 "cells": [
  {
   "cell_type": "markdown",
   "id": "d90c87a0-d965-41a8-abf8-e72bf25bea57",
   "metadata": {},
   "source": [
    "### Descripción \n",
    "\n",
    "El objetivo de la actividad consiste en escoger una temática de películas a partir de la siguiente web de películas de la Internet Movie Database IMDB.\n",
    "\n",
    "La temática puede se por ejemplo: “Selecciones Populares”, “Favoritas de los seguidores” …\n",
    "\n",
    "Una vez escogida la temática, se trata que captures de forma dinámica, los siguientes datos de las 4 primeras películas que aparezcan en la web bajo la temática escogida.\n",
    "\n",
    "Los datos a capturar de cada página son:\n",
    "\n",
    "1. Puntuación (Rating) \n",
    "2. Duración \n",
    "3. Año \n",
    "4. Descripción  \n",
    "5. Dirección (Director) \n",
    "6. Guión (Writers) \n",
    "7. Reparto principal (Stars) \n",
    "8. Géneros (p.e. Acción, Aventuras…)\n",
    "9. Lista de películas en “Más del estilo” (“More like this”)\n",
    "10. Una imagen de la película\n",
    "\n"
   ]
  },
  {
   "cell_type": "code",
   "execution_count": 3,
   "id": "2af373d3-9d1e-4ee6-ae9e-76e0ecced9e6",
   "metadata": {},
   "outputs": [],
   "source": [
    "# import libraries\n",
    "\n",
    "from requests import get\n",
    "from bs4 import BeautifulSoup\n",
    "from time import time, sleep\n",
    "from random import randint\n",
    "from selenium import webdriver\n",
    "from IPython.display import Image, display\n",
    "from pygments import highlight\n",
    "from pygments.lexers import JsonLexer\n",
    "from pygments.formatters import TerminalFormatter\n",
    "\n",
    "\n",
    "import collections\n",
    "import urllib\n",
    "import json\n",
    "import numpy as np \n",
    "import pandas as pd\n",
    "import IPython\n",
    "\n",
    "\n",
    "headers = {\"Accept-Language\": \"en-US, en;q=0.5\"}"
   ]
  },
  {
   "cell_type": "markdown",
   "id": "8f402195-d3a1-45d9-90ab-133d1b4e4ca1",
   "metadata": {},
   "source": [
    "## BS4"
   ]
  },
  {
   "cell_type": "code",
   "execution_count": 12,
   "id": "587cd3d6-26a9-4ec7-8c91-f369436544f3",
   "metadata": {
    "tags": []
   },
   "outputs": [],
   "source": [
    "# Setup BS4 \n",
    "url = \"https://www.imdb.com/search/title/?title_type=feature&genres\"\n",
    "url_imdb = 'https://www.imdb.com'\n",
    "response = get(url)\n",
    "\n",
    "# BS4 \n",
    "soup = BeautifulSoup(response.text, 'html.parser') # 'html.parser' indica que queremos realizar el análisis utilizando el html integrado de Python\n",
    "\n",
    "# Peliculas IMDB\n",
    "movie_containers = soup.find_all('div', class_ = 'lister-item mode-advanced')"
   ]
  },
  {
   "cell_type": "code",
   "execution_count": 13,
   "id": "9f04e79b-c158-4a19-835d-eff3c4328690",
   "metadata": {},
   "outputs": [],
   "source": [
    "# Almacenamos los valores extraídos\n",
    "movies_dict = collections.defaultdict(dict)\n",
    "\n",
    "# Inicializando el driver\n",
    "browser = webdriver.Firefox()\n",
    "\n",
    "# helpers\n",
    "def get_related_movies(soup: BeautifulSoup, movie_class=\"ipc-poster-card ipc-poster-card--base ipc-poster-card--dynamic-width ipc-sub-grid-item ipc-sub-grid-item--span-2\"):\n",
    "    movies = soup.find_all('section', {\"data-testid\" : \"MoreLikeThis\"})\n",
    "    related_movies = movies[0].find_all('div', class_=movie_class)\n",
    "    \n",
    "    return [related_movie.find_all('span', {\"data-testid\" : \"title\"})[0].text for related_movie in related_movies]\n",
    "        \n",
    "def get_related_writers(soup: BeautifulSoup, writer_class=\"ipc-inline-list ipc-inline-list--show-dividers ipc-inline-list--inline ipc-metadata-list-item__list-content base\"):\n",
    "    writers = soup.find_all('ul', class_=writer_class)\n",
    "    related_writers = writers[2].find_all('a', class_ = \"ipc-metadata-list-item__list-content-item ipc-metadata-list-item__list-content-item--link\")\n",
    "    \n",
    "    return [writer.text for writer in related_writers]"
   ]
  },
  {
   "cell_type": "code",
   "execution_count": 14,
   "id": "1f829e54-fc67-4232-afa9-510303b1b67a",
   "metadata": {},
   "outputs": [],
   "source": [
    "# Extracción bs4 \n",
    "\n",
    "for i in range(4):\n",
    "    container = movie_containers[i]\n",
    "    if container.find('div',class_ = 'ratings-metascore'): \n",
    "        #Scrap name\n",
    "        name = container.h3.a.text\n",
    "        \n",
    "        #Scrap years\n",
    "        movies_dict[name]['Year'] = container.h3.find('span', class_ = 'lister-item-year').text\n",
    "        \n",
    "        #Scrap IMBD rating\n",
    "        movies_dict[name]['IMBD rating'] = float(container.strong.text)\n",
    "        \n",
    "        #Scrap Metascore\n",
    "        movies_dict[name]['Metascore rating'] = container.find('span', class_ ='metascore').getText().strip()\n",
    "        \n",
    "        #Scrap number of votes \n",
    "        movies_dict[name]['Votes'] = container.find('span', attrs = {'name':'nv'})['data-value']\n",
    "        \n",
    "        #Scrap the directors\n",
    "        movies_dict[name]['Director'] = ''.join(container.find('p', class_ = '').text.split('Stars')[0].split('\\n')[2:-2]).replace(\"|Stars:\", \"\")\n",
    "        \n",
    "        #Scrap the Stars\n",
    "        movies_dict[name]['Cast (Stars)'] = ''.join(container.find('p', class_ = '').text.split('Director')[1].split('\\n')[4:-1]).replace(\"\\n\", \"\")\n",
    "        \n",
    "        #Scrap Genre\n",
    "        movies_dict[name]['Genre'] = container.find('span', {'class': 'genre'}).getText().strip()\n",
    "        \n",
    "        #Scrap Runtime\n",
    "        movies_dict[name]['Duration'] = container.find('span', {'class': 'runtime'}).getText()\n",
    "        \n",
    "        #Scrap synopsis\n",
    "        movies_dict[name]['Synopsis'] = container.find_all(\"p\", {\"class\":  \"text-muted\"})[1].getText().replace(\"\\n\", \"\")\n",
    "        \n",
    "        #Scrap image\n",
    "        movies_dict[name]['Image_link'] = container.find(\"img\", class_=\"loadlate\")[\"loadlate\"]\n",
    "         \n",
    "        link = container.a['href']\n",
    "        browser.get(url_imdb + link)\n",
    "        soup2 = BeautifulSoup(browser.page_source, \"html.parser\")\n",
    "        \n",
    "        #Scrap more like this\n",
    "        movies_dict[name]['More like this'] = get_related_movies(soup2)[:4]\n",
    "        \n",
    "        #Scrap writers\n",
    "        movies_dict[name]['Writers'] = get_related_writers(soup2)\n",
    "        "
   ]
  },
  {
   "cell_type": "code",
   "execution_count": 15,
   "id": "bf8f9ad0-0a10-4558-9c8c-7e91b2a57310",
   "metadata": {
    "tags": []
   },
   "outputs": [
    {
     "name": "stdout",
     "output_type": "stream",
     "text": [
      "{\u001b[37m\u001b[39;49;00m\n",
      "\u001b[37m    \u001b[39;49;00m\u001b[94m\"Batman\"\u001b[39;49;00m:\u001b[37m \u001b[39;49;00m{\u001b[37m\u001b[39;49;00m\n",
      "\u001b[37m        \u001b[39;49;00m\u001b[94m\"Cast (Stars)\"\u001b[39;49;00m:\u001b[37m \u001b[39;49;00m\u001b[33m\"Robert Pattinson, Zo\\u00eb Kravitz, Jeffrey Wright, Colin Farrell\"\u001b[39;49;00m,\u001b[37m\u001b[39;49;00m\n",
      "\u001b[37m        \u001b[39;49;00m\u001b[94m\"Director\"\u001b[39;49;00m:\u001b[37m \u001b[39;49;00m\u001b[33m\"Matt Reeves\"\u001b[39;49;00m,\u001b[37m\u001b[39;49;00m\n",
      "\u001b[37m        \u001b[39;49;00m\u001b[94m\"Duration\"\u001b[39;49;00m:\u001b[37m \u001b[39;49;00m\u001b[33m\"176 min\"\u001b[39;49;00m,\u001b[37m\u001b[39;49;00m\n",
      "\u001b[37m        \u001b[39;49;00m\u001b[94m\"Genre\"\u001b[39;49;00m:\u001b[37m \u001b[39;49;00m\u001b[33m\"Action, Crime, Drama\"\u001b[39;49;00m,\u001b[37m\u001b[39;49;00m\n",
      "\u001b[37m        \u001b[39;49;00m\u001b[94m\"IMBD rating\"\u001b[39;49;00m:\u001b[37m \u001b[39;49;00m\u001b[34m8.3\u001b[39;49;00m,\u001b[37m\u001b[39;49;00m\n",
      "\u001b[37m        \u001b[39;49;00m\u001b[94m\"Image_link\"\u001b[39;49;00m:\u001b[37m \u001b[39;49;00m\u001b[33m\"https://m.media-amazon.com/images/M/MV5BMDdmMTBiNTYtMDIzNi00NGVlLWIzMDYtZTk3MTQ3NGQxZGEwXkEyXkFqcGdeQXVyMzMwOTU5MDk@._V1_UX67_CR0,0,67,98_AL_.jpg\"\u001b[39;49;00m,\u001b[37m\u001b[39;49;00m\n",
      "\u001b[37m        \u001b[39;49;00m\u001b[94m\"Metascore rating\"\u001b[39;49;00m:\u001b[37m \u001b[39;49;00m\u001b[33m\"72\"\u001b[39;49;00m,\u001b[37m\u001b[39;49;00m\n",
      "\u001b[37m        \u001b[39;49;00m\u001b[94m\"More like this\"\u001b[39;49;00m:\u001b[37m \u001b[39;49;00m[\u001b[37m\u001b[39;49;00m\n",
      "\u001b[37m            \u001b[39;49;00m\u001b[33m\"The Dark Knight\"\u001b[39;49;00m,\u001b[37m\u001b[39;49;00m\n",
      "\u001b[37m            \u001b[39;49;00m\u001b[33m\"Spider-Man: No Way Home\"\u001b[39;49;00m,\u001b[37m\u001b[39;49;00m\n",
      "\u001b[37m            \u001b[39;49;00m\u001b[33m\"Batman Begins\"\u001b[39;49;00m,\u001b[37m\u001b[39;49;00m\n",
      "\u001b[37m            \u001b[39;49;00m\u001b[33m\"The Dark Knight Rises\"\u001b[39;49;00m\u001b[37m\u001b[39;49;00m\n",
      "\u001b[37m        \u001b[39;49;00m],\u001b[37m\u001b[39;49;00m\n",
      "\u001b[37m        \u001b[39;49;00m\u001b[94m\"Synopsis\"\u001b[39;49;00m:\u001b[37m \u001b[39;49;00m\u001b[33m\"When the Riddler, a sadistic serial killer, begins murdering key political figures in Gotham, Batman is forced to investigate the city's hidden corruption and question his family's involvement.\"\u001b[39;49;00m,\u001b[37m\u001b[39;49;00m\n",
      "\u001b[37m        \u001b[39;49;00m\u001b[94m\"Votes\"\u001b[39;49;00m:\u001b[37m \u001b[39;49;00m\u001b[33m\"306594\"\u001b[39;49;00m,\u001b[37m\u001b[39;49;00m\n",
      "\u001b[37m        \u001b[39;49;00m\u001b[94m\"Writers\"\u001b[39;49;00m:\u001b[37m \u001b[39;49;00m[\u001b[37m\u001b[39;49;00m\n",
      "\u001b[37m            \u001b[39;49;00m\u001b[33m\"Matt Reeves\"\u001b[39;49;00m,\u001b[37m\u001b[39;49;00m\n",
      "\u001b[37m            \u001b[39;49;00m\u001b[33m\"Peter Craig\"\u001b[39;49;00m,\u001b[37m\u001b[39;49;00m\n",
      "\u001b[37m            \u001b[39;49;00m\u001b[33m\"Bill Finger\"\u001b[39;49;00m\u001b[37m\u001b[39;49;00m\n",
      "\u001b[37m        \u001b[39;49;00m],\u001b[37m\u001b[39;49;00m\n",
      "\u001b[37m        \u001b[39;49;00m\u001b[94m\"Year\"\u001b[39;49;00m:\u001b[37m \u001b[39;49;00m\u001b[33m\"(2022)\"\u001b[39;49;00m\u001b[37m\u001b[39;49;00m\n",
      "\u001b[37m    \u001b[39;49;00m},\u001b[37m\u001b[39;49;00m\n",
      "\u001b[37m    \u001b[39;49;00m\u001b[94m\"Deep Water\"\u001b[39;49;00m:\u001b[37m \u001b[39;49;00m{\u001b[37m\u001b[39;49;00m\n",
      "\u001b[37m        \u001b[39;49;00m\u001b[94m\"Cast (Stars)\"\u001b[39;49;00m:\u001b[37m \u001b[39;49;00m\u001b[33m\"Ben Affleck, Ana de Armas, Tracy Letts, Grace Jenkins\"\u001b[39;49;00m,\u001b[37m\u001b[39;49;00m\n",
      "\u001b[37m        \u001b[39;49;00m\u001b[94m\"Director\"\u001b[39;49;00m:\u001b[37m \u001b[39;49;00m\u001b[33m\"Adrian Lyne\"\u001b[39;49;00m,\u001b[37m\u001b[39;49;00m\n",
      "\u001b[37m        \u001b[39;49;00m\u001b[94m\"Duration\"\u001b[39;49;00m:\u001b[37m \u001b[39;49;00m\u001b[33m\"115 min\"\u001b[39;49;00m,\u001b[37m\u001b[39;49;00m\n",
      "\u001b[37m        \u001b[39;49;00m\u001b[94m\"Genre\"\u001b[39;49;00m:\u001b[37m \u001b[39;49;00m\u001b[33m\"Drama, Mystery, Thriller\"\u001b[39;49;00m,\u001b[37m\u001b[39;49;00m\n",
      "\u001b[37m        \u001b[39;49;00m\u001b[94m\"IMBD rating\"\u001b[39;49;00m:\u001b[37m \u001b[39;49;00m\u001b[34m5.4\u001b[39;49;00m,\u001b[37m\u001b[39;49;00m\n",
      "\u001b[37m        \u001b[39;49;00m\u001b[94m\"Image_link\"\u001b[39;49;00m:\u001b[37m \u001b[39;49;00m\u001b[33m\"https://m.media-amazon.com/images/M/MV5BNTE1M2NjNDgtYjQ2Ny00YTMzLWJiYWQtMTdmM2Q2YjA1MDg1XkEyXkFqcGdeQXVyODk4OTc3MTY@._V1_UX67_CR0,0,67,98_AL_.jpg\"\u001b[39;49;00m,\u001b[37m\u001b[39;49;00m\n",
      "\u001b[37m        \u001b[39;49;00m\u001b[94m\"Metascore rating\"\u001b[39;49;00m:\u001b[37m \u001b[39;49;00m\u001b[33m\"52\"\u001b[39;49;00m,\u001b[37m\u001b[39;49;00m\n",
      "\u001b[37m        \u001b[39;49;00m\u001b[94m\"More like this\"\u001b[39;49;00m:\u001b[37m \u001b[39;49;00m[\u001b[37m\u001b[39;49;00m\n",
      "\u001b[37m            \u001b[39;49;00m\u001b[33m\"Windfall\"\u001b[39;49;00m,\u001b[37m\u001b[39;49;00m\n",
      "\u001b[37m            \u001b[39;49;00m\u001b[33m\"Fresh\"\u001b[39;49;00m,\u001b[37m\u001b[39;49;00m\n",
      "\u001b[37m            \u001b[39;49;00m\u001b[33m\"The Adam Project\"\u001b[39;49;00m,\u001b[37m\u001b[39;49;00m\n",
      "\u001b[37m            \u001b[39;49;00m\u001b[33m\"Black Crab\"\u001b[39;49;00m\u001b[37m\u001b[39;49;00m\n",
      "\u001b[37m        \u001b[39;49;00m],\u001b[37m\u001b[39;49;00m\n",
      "\u001b[37m        \u001b[39;49;00m\u001b[94m\"Synopsis\"\u001b[39;49;00m:\u001b[37m \u001b[39;49;00m\u001b[33m\"A well-to-do husband who allows his wife to have affairs in order to avoid a divorce becomes a prime suspect in the disappearance of her lovers.\"\u001b[39;49;00m,\u001b[37m\u001b[39;49;00m\n",
      "\u001b[37m        \u001b[39;49;00m\u001b[94m\"Votes\"\u001b[39;49;00m:\u001b[37m \u001b[39;49;00m\u001b[33m\"25164\"\u001b[39;49;00m,\u001b[37m\u001b[39;49;00m\n",
      "\u001b[37m        \u001b[39;49;00m\u001b[94m\"Writers\"\u001b[39;49;00m:\u001b[37m \u001b[39;49;00m[],\u001b[37m\u001b[39;49;00m\n",
      "\u001b[37m        \u001b[39;49;00m\u001b[94m\"Year\"\u001b[39;49;00m:\u001b[37m \u001b[39;49;00m\u001b[33m\"(2022)\"\u001b[39;49;00m\u001b[37m\u001b[39;49;00m\n",
      "\u001b[37m    \u001b[39;49;00m},\u001b[37m\u001b[39;49;00m\n",
      "\u001b[37m    \u001b[39;49;00m\u001b[94m\"The Adam Project\"\u001b[39;49;00m:\u001b[37m \u001b[39;49;00m{\u001b[37m\u001b[39;49;00m\n",
      "\u001b[37m        \u001b[39;49;00m\u001b[94m\"Cast (Stars)\"\u001b[39;49;00m:\u001b[37m \u001b[39;49;00m\u001b[33m\"Ryan Reynolds, Walker Scobell, Mark Ruffalo, Jennifer Garner\"\u001b[39;49;00m,\u001b[37m\u001b[39;49;00m\n",
      "\u001b[37m        \u001b[39;49;00m\u001b[94m\"Director\"\u001b[39;49;00m:\u001b[37m \u001b[39;49;00m\u001b[33m\"Shawn Levy\"\u001b[39;49;00m,\u001b[37m\u001b[39;49;00m\n",
      "\u001b[37m        \u001b[39;49;00m\u001b[94m\"Duration\"\u001b[39;49;00m:\u001b[37m \u001b[39;49;00m\u001b[33m\"106 min\"\u001b[39;49;00m,\u001b[37m\u001b[39;49;00m\n",
      "\u001b[37m        \u001b[39;49;00m\u001b[94m\"Genre\"\u001b[39;49;00m:\u001b[37m \u001b[39;49;00m\u001b[33m\"Action, Adventure, Comedy\"\u001b[39;49;00m,\u001b[37m\u001b[39;49;00m\n",
      "\u001b[37m        \u001b[39;49;00m\u001b[94m\"IMBD rating\"\u001b[39;49;00m:\u001b[37m \u001b[39;49;00m\u001b[34m6.7\u001b[39;49;00m,\u001b[37m\u001b[39;49;00m\n",
      "\u001b[37m        \u001b[39;49;00m\u001b[94m\"Image_link\"\u001b[39;49;00m:\u001b[37m \u001b[39;49;00m\u001b[33m\"https://m.media-amazon.com/images/M/MV5BOWM0YWMwMDQtMjE5NS00ZTIwLWE1NWEtODViMWZjMWI2OTU3XkEyXkFqcGdeQXVyMTEyMjM2NDc2._V1_UX67_CR0,0,67,98_AL_.jpg\"\u001b[39;49;00m,\u001b[37m\u001b[39;49;00m\n",
      "\u001b[37m        \u001b[39;49;00m\u001b[94m\"Metascore rating\"\u001b[39;49;00m:\u001b[37m \u001b[39;49;00m\u001b[33m\"55\"\u001b[39;49;00m,\u001b[37m\u001b[39;49;00m\n",
      "\u001b[37m        \u001b[39;49;00m\u001b[94m\"More like this\"\u001b[39;49;00m:\u001b[37m \u001b[39;49;00m[\u001b[37m\u001b[39;49;00m\n",
      "\u001b[37m            \u001b[39;49;00m\u001b[33m\"Free Guy\"\u001b[39;49;00m,\u001b[37m\u001b[39;49;00m\n",
      "\u001b[37m            \u001b[39;49;00m\u001b[33m\"The Hitman's Bodyguard: Dangerous Women\"\u001b[39;49;00m,\u001b[37m\u001b[39;49;00m\n",
      "\u001b[37m            \u001b[39;49;00m\u001b[33m\"Spider-Man: No Way Home\"\u001b[39;49;00m,\u001b[37m\u001b[39;49;00m\n",
      "\u001b[37m            \u001b[39;49;00m\u001b[33m\"Red Notice\"\u001b[39;49;00m\u001b[37m\u001b[39;49;00m\n",
      "\u001b[37m        \u001b[39;49;00m],\u001b[37m\u001b[39;49;00m\n",
      "\u001b[37m        \u001b[39;49;00m\u001b[94m\"Synopsis\"\u001b[39;49;00m:\u001b[37m \u001b[39;49;00m\u001b[33m\"After accidentally crash-landing in 2022, time-traveling fighter pilot Adam Reed teams up with his 12-year-old self for a mission to save the future.\"\u001b[39;49;00m,\u001b[37m\u001b[39;49;00m\n",
      "\u001b[37m        \u001b[39;49;00m\u001b[94m\"Votes\"\u001b[39;49;00m:\u001b[37m \u001b[39;49;00m\u001b[33m\"119424\"\u001b[39;49;00m,\u001b[37m\u001b[39;49;00m\n",
      "\u001b[37m        \u001b[39;49;00m\u001b[94m\"Writers\"\u001b[39;49;00m:\u001b[37m \u001b[39;49;00m[],\u001b[37m\u001b[39;49;00m\n",
      "\u001b[37m        \u001b[39;49;00m\u001b[94m\"Year\"\u001b[39;49;00m:\u001b[37m \u001b[39;49;00m\u001b[33m\"(2022)\"\u001b[39;49;00m\u001b[37m\u001b[39;49;00m\n",
      "\u001b[37m    \u001b[39;49;00m},\u001b[37m\u001b[39;49;00m\n",
      "\u001b[37m    \u001b[39;49;00m\u001b[94m\"X\"\u001b[39;49;00m:\u001b[37m \u001b[39;49;00m{\u001b[37m\u001b[39;49;00m\n",
      "\u001b[37m        \u001b[39;49;00m\u001b[94m\"Cast (Stars)\"\u001b[39;49;00m:\u001b[37m \u001b[39;49;00m\u001b[33m\"Mia Goth, Jenna Ortega, Brittany Snow, Kid Cudi\"\u001b[39;49;00m,\u001b[37m\u001b[39;49;00m\n",
      "\u001b[37m        \u001b[39;49;00m\u001b[94m\"Director\"\u001b[39;49;00m:\u001b[37m \u001b[39;49;00m\u001b[33m\"Ti West\"\u001b[39;49;00m,\u001b[37m\u001b[39;49;00m\n",
      "\u001b[37m        \u001b[39;49;00m\u001b[94m\"Duration\"\u001b[39;49;00m:\u001b[37m \u001b[39;49;00m\u001b[33m\"105 min\"\u001b[39;49;00m,\u001b[37m\u001b[39;49;00m\n",
      "\u001b[37m        \u001b[39;49;00m\u001b[94m\"Genre\"\u001b[39;49;00m:\u001b[37m \u001b[39;49;00m\u001b[33m\"Horror\"\u001b[39;49;00m,\u001b[37m\u001b[39;49;00m\n",
      "\u001b[37m        \u001b[39;49;00m\u001b[94m\"IMBD rating\"\u001b[39;49;00m:\u001b[37m \u001b[39;49;00m\u001b[34m7.3\u001b[39;49;00m,\u001b[37m\u001b[39;49;00m\n",
      "\u001b[37m        \u001b[39;49;00m\u001b[94m\"Image_link\"\u001b[39;49;00m:\u001b[37m \u001b[39;49;00m\u001b[33m\"https://m.media-amazon.com/images/M/MV5BMTJiMmE5YWItOWZjYS00YTg0LWE0MTYtMzg2ZTY4YjNkNDEzXkEyXkFqcGdeQXVyMTAzMDg4NzU0._V1_UY98_CR5,0,67,98_AL_.jpg\"\u001b[39;49;00m,\u001b[37m\u001b[39;49;00m\n",
      "\u001b[37m        \u001b[39;49;00m\u001b[94m\"Metascore rating\"\u001b[39;49;00m:\u001b[37m \u001b[39;49;00m\u001b[33m\"79\"\u001b[39;49;00m,\u001b[37m\u001b[39;49;00m\n",
      "\u001b[37m        \u001b[39;49;00m\u001b[94m\"More like this\"\u001b[39;49;00m:\u001b[37m \u001b[39;49;00m[\u001b[37m\u001b[39;49;00m\n",
      "\u001b[37m            \u001b[39;49;00m\u001b[33m\"The Outfit\"\u001b[39;49;00m,\u001b[37m\u001b[39;49;00m\n",
      "\u001b[37m            \u001b[39;49;00m\u001b[33m\"Everything Everywhere All at Once\"\u001b[39;49;00m,\u001b[37m\u001b[39;49;00m\n",
      "\u001b[37m            \u001b[39;49;00m\u001b[33m\"The Lost City\"\u001b[39;49;00m,\u001b[37m\u001b[39;49;00m\n",
      "\u001b[37m            \u001b[39;49;00m\u001b[33m\"Fresh\"\u001b[39;49;00m\u001b[37m\u001b[39;49;00m\n",
      "\u001b[37m        \u001b[39;49;00m],\u001b[37m\u001b[39;49;00m\n",
      "\u001b[37m        \u001b[39;49;00m\u001b[94m\"Synopsis\"\u001b[39;49;00m:\u001b[37m \u001b[39;49;00m\u001b[33m\"In 1979, a group of young filmmakers set out to make an adult film in rural Texas, but when their reclusive, elderly hosts catch them in the act, the cast find themselves fighting for their lives.\"\u001b[39;49;00m,\u001b[37m\u001b[39;49;00m\n",
      "\u001b[37m        \u001b[39;49;00m\u001b[94m\"Votes\"\u001b[39;49;00m:\u001b[37m \u001b[39;49;00m\u001b[33m\"9703\"\u001b[39;49;00m,\u001b[37m\u001b[39;49;00m\n",
      "\u001b[37m        \u001b[39;49;00m\u001b[94m\"Writers\"\u001b[39;49;00m:\u001b[37m \u001b[39;49;00m[],\u001b[37m\u001b[39;49;00m\n",
      "\u001b[37m        \u001b[39;49;00m\u001b[94m\"Year\"\u001b[39;49;00m:\u001b[37m \u001b[39;49;00m\u001b[33m\"(II) (2022)\"\u001b[39;49;00m\u001b[37m\u001b[39;49;00m\n",
      "\u001b[37m    \u001b[39;49;00m}\u001b[37m\u001b[39;49;00m\n",
      "}\u001b[37m\u001b[39;49;00m\n",
      "\n"
     ]
    }
   ],
   "source": [
    "#Generamos un diccionario de Python con los datos obtenidos (excepto la imagen) guarda en un fichero de texto los datos de los diccionarios obtenidos.\n",
    "json_str = json.dumps(movies_dict, sort_keys=True, indent=4)\n",
    "print(highlight(json_str, JsonLexer(), TerminalFormatter()))"
   ]
  },
  {
   "cell_type": "code",
   "execution_count": 16,
   "id": "cae10074-4579-4ae0-acb7-856e8284ecf0",
   "metadata": {
    "tags": []
   },
   "outputs": [
    {
     "name": "stdout",
     "output_type": "stream",
     "text": [
      "Batman {'Year': '(2022)', 'IMBD rating': 8.3, 'Metascore rating': '72', 'Votes': '306594', 'Director': 'Matt Reeves', 'Cast (Stars)': 'Robert Pattinson, Zoë Kravitz, Jeffrey Wright, Colin Farrell', 'Genre': 'Action, Crime, Drama', 'Duration': '176 min', 'Synopsis': \"When the Riddler, a sadistic serial killer, begins murdering key political figures in Gotham, Batman is forced to investigate the city's hidden corruption and question his family's involvement.\", 'Image_link': 'https://m.media-amazon.com/images/M/MV5BMDdmMTBiNTYtMDIzNi00NGVlLWIzMDYtZTk3MTQ3NGQxZGEwXkEyXkFqcGdeQXVyMzMwOTU5MDk@._V1_UX67_CR0,0,67,98_AL_.jpg', 'More like this': ['The Dark Knight', 'Spider-Man: No Way Home', 'Batman Begins', 'The Dark Knight Rises'], 'Writers': ['Matt Reeves', 'Peter Craig', 'Bill Finger']}\n"
     ]
    },
    {
     "data": {
      "image/jpeg": "[encoded data removed]",
      "text/plain": [
       "<IPython.core.display.Image object>"
      ]
     },
     "metadata": {},
     "output_type": "display_data"
    },
    {
     "name": "stdout",
     "output_type": "stream",
     "text": [
      "Deep Water {'Year': '(2022)', 'IMBD rating': 5.4, 'Metascore rating': '52', 'Votes': '25164', 'Director': 'Adrian Lyne', 'Cast (Stars)': 'Ben Affleck, Ana de Armas, Tracy Letts, Grace Jenkins', 'Genre': 'Drama, Mystery, Thriller', 'Duration': '115 min', 'Synopsis': 'A well-to-do husband who allows his wife to have affairs in order to avoid a divorce becomes a prime suspect in the disappearance of her lovers.', 'Image_link': 'https://m.media-amazon.com/images/M/MV5BNTE1M2NjNDgtYjQ2Ny00YTMzLWJiYWQtMTdmM2Q2YjA1MDg1XkEyXkFqcGdeQXVyODk4OTc3MTY@._V1_UX67_CR0,0,67,98_AL_.jpg', 'More like this': ['Windfall', 'Fresh', 'The Adam Project', 'Black Crab'], 'Writers': []}\n"
     ]
    },
    {
     "data": {
      "image/jpeg": "[encoded data removed]",
      "text/plain": [
       "<IPython.core.display.Image object>"
      ]
     },
     "metadata": {},
     "output_type": "display_data"
    },
    {
     "name": "stdout",
     "output_type": "stream",
     "text": [
      "X {'Year': '(II) (2022)', 'IMBD rating': 7.3, 'Metascore rating': '79', 'Votes': '9703', 'Director': 'Ti West', 'Cast (Stars)': 'Mia Goth, Jenna Ortega, Brittany Snow, Kid Cudi', 'Genre': 'Horror', 'Duration': '105 min', 'Synopsis': 'In 1979, a group of young filmmakers set out to make an adult film in rural Texas, but when their reclusive, elderly hosts catch them in the act, the cast find themselves fighting for their lives.', 'Image_link': 'https://m.media-amazon.com/images/M/MV5BMTJiMmE5YWItOWZjYS00YTg0LWE0MTYtMzg2ZTY4YjNkNDEzXkEyXkFqcGdeQXVyMTAzMDg4NzU0._V1_UY98_CR5,0,67,98_AL_.jpg', 'More like this': ['The Outfit', 'Everything Everywhere All at Once', 'The Lost City', 'Fresh'], 'Writers': []}\n"
     ]
    },
    {
     "data": {
      "image/jpeg": "[encoded data removed]",
      "text/plain": [
       "<IPython.core.display.Image object>"
      ]
     },
     "metadata": {},
     "output_type": "display_data"
    },
    {
     "name": "stdout",
     "output_type": "stream",
     "text": [
      "The Adam Project {'Year': '(2022)', 'IMBD rating': 6.7, 'Metascore rating': '55', 'Votes': '119424', 'Director': 'Shawn Levy', 'Cast (Stars)': 'Ryan Reynolds, Walker Scobell, Mark Ruffalo, Jennifer Garner', 'Genre': 'Action, Adventure, Comedy', 'Duration': '106 min', 'Synopsis': 'After accidentally crash-landing in 2022, time-traveling fighter pilot Adam Reed teams up with his 12-year-old self for a mission to save the future.', 'Image_link': 'https://m.media-amazon.com/images/M/MV5BOWM0YWMwMDQtMjE5NS00ZTIwLWE1NWEtODViMWZjMWI2OTU3XkEyXkFqcGdeQXVyMTEyMjM2NDc2._V1_UX67_CR0,0,67,98_AL_.jpg', 'More like this': ['Free Guy', \"The Hitman's Bodyguard: Dangerous Women\", 'Spider-Man: No Way Home', 'Red Notice'], 'Writers': []}\n"
     ]
    },
    {
     "data": {
      "image/jpeg": "[encoded data removed]",
      "text/plain": [
       "<IPython.core.display.Image object>"
      ]
     },
     "metadata": {},
     "output_type": "display_data"
    }
   ],
   "source": [
    "#Presentamos en el output del notebook, los datos de cada diccionario obtenido junto a la imagen de cada película.\n",
    "for key, value in movies_dict.items():\n",
    "    print(key, value)\n",
    "    display(Image(value['Image_link']))\n",
    "    "
   ]
  }
 ],
 "metadata": {
  "kernelspec": {
   "display_name": "Python 3 (ipykernel)",
   "language": "python",
   "name": "python3"
  },
  "language_info": {
   "codemirror_mode": {
    "name": "ipython",
    "version": 3
   },
   "file_extension": ".py",
   "mimetype": "text/x-python",
   "name": "python",
   "nbconvert_exporter": "python",
   "pygments_lexer": "ipython3",
   "version": "3.9.7"
  }
 },
 "nbformat": 4,
 "nbformat_minor": 5
}
